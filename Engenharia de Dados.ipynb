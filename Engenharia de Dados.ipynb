{
 "cells": [
  {
   "cell_type": "markdown",
   "id": "2fdd4d13",
   "metadata": {},
   "source": [
    "### Engenharia de dados \n",
    "- Criação de informações novas baseadas em um conjunto de dados brutos\n",
    "\n",
    "### Base de dados de atletas em olimpiadas"
   ]
  },
  {
   "cell_type": "code",
   "execution_count": 7,
   "id": "1640bd43",
   "metadata": {},
   "outputs": [
    {
     "name": "stdout",
     "output_type": "stream",
     "text": [
      "<class 'pandas.core.frame.DataFrame'>\n",
      "RangeIndex: 269718 entries, 0 to 269717\n",
      "Data columns (total 16 columns):\n",
      " #   Column       Non-Null Count   Dtype  \n",
      "---  ------       --------------   -----  \n",
      " 0   Unnamed: 0   269718 non-null  int64  \n",
      " 1   ano          269718 non-null  int64  \n",
      " 2   edicao       269718 non-null  object \n",
      " 3   cidade_sede  269718 non-null  object \n",
      " 4   pais         269348 non-null  object \n",
      " 5   delegacao    269718 non-null  object \n",
      " 6   equipe       269718 non-null  object \n",
      " 7   id_atleta    269718 non-null  int64  \n",
      " 8   nome_atleta  269718 non-null  object \n",
      " 9   sexo         269718 non-null  object \n",
      " 10  idade        260410 non-null  float64\n",
      " 11  altura       210917 non-null  float64\n",
      " 12  peso         208204 non-null  float64\n",
      " 13  esporte      269718 non-null  object \n",
      " 14  evento       269718 non-null  object \n",
      " 15  medalha      39772 non-null   object \n",
      "dtypes: float64(3), int64(3), object(10)\n",
      "memory usage: 32.9+ MB\n",
      "None\n",
      "(269718, 16)\n",
      "205\n"
     ]
    }
   ],
   "source": [
    "import pandas as pd\n",
    "import os\n",
    "\n",
    "dados = pd.read_csv(\"base.csv\")\n",
    "print(dados.info())\n",
    "dados['medalha'].fillna('sem_medalha',inplace=True)\n",
    "\n",
    "#Inputado a idade dos atletas baseado na média do sexo, esporte e edicao participada\n",
    "dados['idade'] = dados.groupby(['sexo','esporte','edicao'], sort=False)['idade'].apply(lambda x: x.ffill().bfill())\n",
    "#Inputado a altura dos atletas baseado na média do sexo, esporte, idade e edicao participada\n",
    "dados['altura'] = dados.groupby(['sexo','idade','esporte','edicao'], sort=False)['altura'].apply(lambda x: x.ffill().bfill())\n",
    "#Inputado o peso dos atletas baseado na média do sexo, esporte, idade, altura e edicao participada\n",
    "dados['peso'] = dados.groupby(['sexo','idade','altura','esporte','edicao'], sort=False)['peso'].apply(lambda x: x.ffill().bfill())\n",
    "print(dados.shape)\n",
    "n = dados['id_atleta'].nunique()\n",
    "n = dados['pais'].nunique()\n",
    "print(n)"
   ]
  },
  {
   "cell_type": "markdown",
   "id": "0c6c4e9b",
   "metadata": {},
   "source": [
    "### Grupo de perguntas 1\n",
    "- Média de idade, altura, peso por edição por sexo\n",
    "- Média de idade, altura, peso por edição, esporte e sexo\n",
    "- Média de idade por delegação e esporte e sexo\n",
    "- Média de idade por edição e delegação e esporte\n",
    "\n",
    "#### Relevância \n",
    "- Encontrar delegações por idade e altura, podendo digirir campanhas especificas para venda de produtos especificos para difrentes publicos.\n",
    "- Informações sobre altura e idade de equipes especificas por esporte, sendo bastante informativo em um cenário de comentario e curiosidades "
   ]
  },
  {
   "cell_type": "code",
   "execution_count": 8,
   "id": "e623e80a",
   "metadata": {},
   "outputs": [],
   "source": [
    "dados['bin_medals'] = (dados['medalha']!='sem_medalha')&(dados[])).astype(int)\n",
    "dados.columns\n",
    "dados.drop(columns=['Unnamed: 0'], inplace=True)\n",
    "dados.to_csv(\"dados_att.csv\")"
   ]
  },
  {
   "cell_type": "code",
   "execution_count": 24,
   "id": "6235eff8",
   "metadata": {},
   "outputs": [
    {
     "name": "stderr",
     "output_type": "stream",
     "text": [
      "C:\\Users\\boaro\\AppData\\Local\\Temp/ipykernel_2008/3853057765.py:3: FutureWarning: Indexing with multiple keys (implicitly converted to a tuple of keys) will be deprecated, use a list instead.\n",
      "  media_iap_es = dados.groupby(['edicao','ano','sexo'])['idade','altura','peso'].mean().astype(\"int64\")\n",
      "C:\\Users\\boaro\\AppData\\Local\\Temp/ipykernel_2008/3853057765.py:5: FutureWarning: Indexing with multiple keys (implicitly converted to a tuple of keys) will be deprecated, use a list instead.\n",
      "  media_iap_ese = dados.groupby(['edicao','ano','esporte','sexo'])['idade','altura','peso'].mean().astype(\"int64\")\n",
      "C:\\Users\\boaro\\AppData\\Local\\Temp/ipykernel_2008/3853057765.py:7: FutureWarning: Indexing with multiple keys (implicitly converted to a tuple of keys) will be deprecated, use a list instead.\n",
      "  media_iap_des = dados.groupby(['edicao','pais','esporte','sexo'])['idade','altura','peso'].mean().astype(\"int64\")\n",
      "C:\\Users\\boaro\\AppData\\Local\\Temp/ipykernel_2008/3853057765.py:9: FutureWarning: Indexing with multiple keys (implicitly converted to a tuple of keys) will be deprecated, use a list instead.\n",
      "  media_iap_edes = dados.groupby(['edicao','ano','pais','esporte','sexo'])['idade','altura','peso'].mean().astype(\"int64\")\n"
     ]
    },
    {
     "name": "stdout",
     "output_type": "stream",
     "text": [
      "<class 'pandas.core.frame.DataFrame'>\n",
      "MultiIndex: 36133 entries, ('Summer', 1896, 'Australia', 'Athletics', 'M') to ('Winter', 2014, 'Zimbabwe', 'Alpine Skiing', 'M')\n",
      "Data columns (total 3 columns):\n",
      " #   Column  Non-Null Count  Dtype\n",
      "---  ------  --------------  -----\n",
      " 0   idade   36133 non-null  int64\n",
      " 1   altura  36133 non-null  int64\n",
      " 2   peso    36133 non-null  int64\n",
      "dtypes: int64(3)\n",
      "memory usage: 1.0+ MB\n"
     ]
    }
   ],
   "source": [
    "# Media de idade, altura, peso por edição\n",
    "dados = dados.dropna()\n",
    "media_iap_es = dados.groupby(['edicao','ano','sexo'])['idade','altura','peso'].mean().astype(\"int64\")\n",
    "\n",
    "media_iap_ese = dados.groupby(['edicao','ano','esporte','sexo'])['idade','altura','peso'].mean().astype(\"int64\")\n",
    "\n",
    "media_iap_des = dados.groupby(['edicao','pais','esporte','sexo'])['idade','altura','peso'].mean().astype(\"int64\")\n",
    "\n",
    "media_iap_edes = dados.groupby(['edicao','ano','pais','esporte','sexo'])['idade','altura','peso'].mean().astype(\"int64\")\n",
    "\n",
    "media_iap_edes.info()\n",
    "if not os.path.exists(\"grupo1/\"):\n",
    "    os.mkdir('grupo1/')\n",
    "    \n",
    "    \n",
    "media_iap_es.to_csv(\"grupo1/media_iap_es.csv\")\n",
    "media_iap_ese.to_csv(\"grupo1/media_iap_ese.csv\")\n",
    "media_iap_des.to_csv(\"grupo1/media_iap_des.csv\")\n",
    "media_iap_edes.to_csv(\"grupo1/media_iap_edes.csv\")"
   ]
  },
  {
   "cell_type": "markdown",
   "id": "a81c10a3",
   "metadata": {},
   "source": [
    "### Grupo 2\n",
    "- Quantidade de atletas por edição sexo e delegação\n",
    "- Desempenho do Brasil em relação ao numero de medalhas "
   ]
  },
  {
   "cell_type": "code",
   "execution_count": 74,
   "id": "4902f3e9",
   "metadata": {},
   "outputs": [
    {
     "name": "stdout",
     "output_type": "stream",
     "text": [
      "462\n",
      "(19141, 8)\n",
      "(36456, 6)\n"
     ]
    },
    {
     "data": {
      "text/plain": [
       "8778"
      ]
     },
     "execution_count": 74,
     "metadata": {},
     "output_type": "execute_result"
    }
   ],
   "source": [
    "#medalhas_epas =dados[dados['medalha']!='sem_medalha'].groupby(['edicao','pais','ano','sexo','esporte','evento'])['medalha'].value_counts().reset_index(name='qtd_medalhas')\n",
    "medalhas_epas =dados[dados['medalha']!='sem_medalha'].groupby(['edicao','pais','ano','sexo','esporte','evento'])['medalha'].value_counts().reset_index(name='qtd_medalhas')\n",
    "\n",
    "atleta_epas = dados.groupby(['edicao','pais','ano','esporte','sexo'])['id_atleta'].nunique().reset_index(name='qtd_atletas')\n",
    "print(atleta_epas['qtd_atletas'][(atleta_epas['pais']=='Brazil') & (atleta_epas['ano']==2016)].sum())\n",
    "print(medalhas_epas.shape)\n",
    "print(atleta_epas.shape)\n",
    "\n",
    "#qtd_medalhas_atletas.to_csv(\"qtd_medalhas_atletas.csv\")\n",
    "#medalhas_epas.to_csv(\"grupo2/medalha_epas.csv\")\n",
    "#atleta_epas.to_csv(\"grupo2/atleta_epas.csv\")"
   ]
  },
  {
   "cell_type": "markdown",
   "id": "29c1cedf",
   "metadata": {},
   "source": [
    "## Grupo 3\n",
    "- Atletas com mais participações em olimpiadas\n",
    "- Média de participações deu um atleta olimpico por esporte"
   ]
  },
  {
   "cell_type": "code",
   "execution_count": 12,
   "id": "87f1c335",
   "metadata": {},
   "outputs": [],
   "source": [
    "atletas_participacoes = dados.groupby(['esporte','id_atleta']).apply(lambda x: x['ano'].nunique())\n",
    "atletas_participacoes.to_csv(\"grupo3/atletas_part.csv\")\n"
   ]
  },
  {
   "cell_type": "markdown",
   "id": "8bef24a1",
   "metadata": {},
   "source": [
    "### Grupo 4\n",
    "- Maiores atletas vecedores de todos os tempos"
   ]
  },
  {
   "cell_type": "code",
   "execution_count": 17,
   "id": "150a7482",
   "metadata": {},
   "outputs": [
    {
     "data": {
      "text/html": [
       "<div>\n",
       "<style scoped>\n",
       "    .dataframe tbody tr th:only-of-type {\n",
       "        vertical-align: middle;\n",
       "    }\n",
       "\n",
       "    .dataframe tbody tr th {\n",
       "        vertical-align: top;\n",
       "    }\n",
       "\n",
       "    .dataframe thead th {\n",
       "        text-align: right;\n",
       "    }\n",
       "</style>\n",
       "<table border=\"1\" class=\"dataframe\">\n",
       "  <thead>\n",
       "    <tr style=\"text-align: right;\">\n",
       "      <th></th>\n",
       "      <th>esporte</th>\n",
       "      <th>id_atleta</th>\n",
       "      <th>nome_atleta</th>\n",
       "      <th>medalha</th>\n",
       "    </tr>\n",
       "  </thead>\n",
       "  <tbody>\n",
       "    <tr>\n",
       "      <th>0</th>\n",
       "      <td>Athletics</td>\n",
       "      <td>35698</td>\n",
       "      <td>Edwin Harold \"Teddy\" Flack</td>\n",
       "      <td>1</td>\n",
       "    </tr>\n",
       "    <tr>\n",
       "      <th>1</th>\n",
       "      <td>Athletics</td>\n",
       "      <td>35698</td>\n",
       "      <td>Edwin Harold \"Teddy\" Flack</td>\n",
       "      <td>2</td>\n",
       "    </tr>\n",
       "    <tr>\n",
       "      <th>6</th>\n",
       "      <td>Tennis</td>\n",
       "      <td>35698</td>\n",
       "      <td>Edwin Harold \"Teddy\" Flack</td>\n",
       "      <td>1</td>\n",
       "    </tr>\n",
       "    <tr>\n",
       "      <th>7</th>\n",
       "      <td>Tennis</td>\n",
       "      <td>35698</td>\n",
       "      <td>Edwin Harold \"Teddy\" Flack</td>\n",
       "      <td>2</td>\n",
       "    </tr>\n",
       "    <tr>\n",
       "      <th>10</th>\n",
       "      <td>Swimming</td>\n",
       "      <td>48195</td>\n",
       "      <td>Otto Herschmann</td>\n",
       "      <td>1</td>\n",
       "    </tr>\n",
       "    <tr>\n",
       "      <th>...</th>\n",
       "      <td>...</td>\n",
       "      <td>...</td>\n",
       "      <td>...</td>\n",
       "      <td>...</td>\n",
       "    </tr>\n",
       "    <tr>\n",
       "      <th>269942</th>\n",
       "      <td>Boxing</td>\n",
       "      <td>122563</td>\n",
       "      <td>Rustam Tulaganov</td>\n",
       "      <td>1</td>\n",
       "    </tr>\n",
       "    <tr>\n",
       "      <th>269947</th>\n",
       "      <td>Judo</td>\n",
       "      <td>123501</td>\n",
       "      <td>Diyorbek Urozboyev</td>\n",
       "      <td>1</td>\n",
       "    </tr>\n",
       "    <tr>\n",
       "      <th>269952</th>\n",
       "      <td>Boxing</td>\n",
       "      <td>135205</td>\n",
       "      <td>Shakhobiddin Shokirovich Zoirov</td>\n",
       "      <td>1</td>\n",
       "    </tr>\n",
       "    <tr>\n",
       "      <th>269988</th>\n",
       "      <td>Boxing</td>\n",
       "      <td>35443</td>\n",
       "      <td>Yoel Segundo Finol Rivas</td>\n",
       "      <td>1</td>\n",
       "    </tr>\n",
       "    <tr>\n",
       "      <th>270048</th>\n",
       "      <td>Athletics</td>\n",
       "      <td>102089</td>\n",
       "      <td>Yulimar del Valle Rojas Rodrguez</td>\n",
       "      <td>1</td>\n",
       "    </tr>\n",
       "  </tbody>\n",
       "</table>\n",
       "<p>28769 rows × 4 columns</p>\n",
       "</div>"
      ],
      "text/plain": [
       "          esporte  id_atleta                       nome_atleta  medalha\n",
       "0       Athletics      35698        Edwin Harold \"Teddy\" Flack        1\n",
       "1       Athletics      35698        Edwin Harold \"Teddy\" Flack        2\n",
       "6          Tennis      35698        Edwin Harold \"Teddy\" Flack        1\n",
       "7          Tennis      35698        Edwin Harold \"Teddy\" Flack        2\n",
       "10       Swimming      48195                   Otto Herschmann        1\n",
       "...           ...        ...                               ...      ...\n",
       "269942     Boxing     122563                  Rustam Tulaganov        1\n",
       "269947       Judo     123501                Diyorbek Urozboyev        1\n",
       "269952     Boxing     135205   Shakhobiddin Shokirovich Zoirov        1\n",
       "269988     Boxing      35443          Yoel Segundo Finol Rivas        1\n",
       "270048  Athletics     102089  Yulimar del Valle Rojas Rodrguez        1\n",
       "\n",
       "[28769 rows x 4 columns]"
      ]
     },
     "execution_count": 17,
     "metadata": {},
     "output_type": "execute_result"
    }
   ],
   "source": [
    "query_aux = dados[dados['medalha']!='sem_medalha'].groupby(['id_atleta','esporte'])['medalha'].count().sort_values()\n",
    "vencedores = dados[['esporte','id_atleta','nome_atleta']].merge(query_aux,how='left',on='id_atleta').dropna().drop_duplicates()\n",
    "vencedores['medalha'] = vencedores['medalha'].astype(\"int64\")\n",
    "\n",
    "vencedores\n",
    "\n",
    "\n",
    "#medalhas_epas =dados[dados['medalha']!='sem_medalha'].groupby(['edicao','pais','ano','sexo','evento','esporte','id_atleta'])['medalha'].value_counts()\n",
    "#medalhas_epas.to_csv(\"grupo4/medalha_epas.csv\")"
   ]
  },
  {
   "cell_type": "code",
   "execution_count": null,
   "id": "7487abef",
   "metadata": {},
   "outputs": [],
   "source": []
  }
 ],
 "metadata": {
  "kernelspec": {
   "display_name": "Python 3 (ipykernel)",
   "language": "python",
   "name": "python3"
  },
  "language_info": {
   "codemirror_mode": {
    "name": "ipython",
    "version": 3
   },
   "file_extension": ".py",
   "mimetype": "text/x-python",
   "name": "python",
   "nbconvert_exporter": "python",
   "pygments_lexer": "ipython3",
   "version": "3.8.10"
  }
 },
 "nbformat": 4,
 "nbformat_minor": 5
}
